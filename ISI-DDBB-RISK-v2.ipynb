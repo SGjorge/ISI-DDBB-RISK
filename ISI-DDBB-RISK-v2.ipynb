{
 "cells": [
  {
   "cell_type": "markdown",
   "metadata": {},
   "source": [
    "# ISI-DDBB-RISK"
   ]
  },
  {
   "cell_type": "markdown",
   "metadata": {},
   "source": [
    "Este cuadernillo implementará la estructura del juego del RISK, en base de datos. Además esté cuadernillo pretende hacer visible el desarrollo paso a paso de la implementación, no solo necesaria para el juego, sino también para mantener un sistema de consultas de partidas de RISK.Todos los diagramas E/R que vayan apareciendo son sucteptibles de sufrir cambios a lo largo del proceso"
   ]
  },
  {
   "cell_type": "code",
   "execution_count": 2,
   "metadata": {
    "collapsed": false
   },
   "outputs": [
    {
     "name": "stdout",
     "output_type": "stream",
     "text": [
      "The sql extension is already loaded. To reload it, use:\n",
      "  %reload_ext sql\n"
     ]
    }
   ],
   "source": [
    "%load_ext sql"
   ]
  },
  {
   "cell_type": "code",
   "execution_count": 3,
   "metadata": {
    "collapsed": false
   },
   "outputs": [
    {
     "data": {
      "text/plain": [
       "'Connected: None@ISI-RISK-v2.db'"
      ]
     },
     "execution_count": 3,
     "metadata": {},
     "output_type": "execute_result"
    }
   ],
   "source": [
    "%sql sqlite:///ISI-RISK-v2.db"
   ]
  },
  {
   "cell_type": "markdown",
   "metadata": {},
   "source": [
    "## Tabla de Jugadores"
   ]
  },
  {
   "cell_type": "markdown",
   "metadata": {},
   "source": [
    "![Diagrama E/R](IMG/tabla_jugadores_v2.png)"
   ]
  },
  {
   "cell_type": "code",
   "execution_count": 4,
   "metadata": {
    "collapsed": false
   },
   "outputs": [
    {
     "name": "stdout",
     "output_type": "stream",
     "text": [
      "(sqlite3.OperationalError) table jugadores already exists [SQL: 'CREATE TABLE jugadores(nombre VARCHAR(20),\\n                       tipo VARCHAR(20),\\n                       PRIMARY KEY(nombre));']\n"
     ]
    }
   ],
   "source": [
    "%%sql\n",
    "CREATE TABLE jugadores(nombre VARCHAR(20),\n",
    "                       tipo VARCHAR(20),\n",
    "                       PRIMARY KEY(nombre));"
   ]
  },
  {
   "cell_type": "code",
   "execution_count": 11,
   "metadata": {
    "collapsed": false
   },
   "outputs": [
    {
     "name": "stdout",
     "output_type": "stream",
     "text": [
      "1 rows affected.\n",
      "1 rows affected.\n",
      "1 rows affected.\n",
      "1 rows affected.\n"
     ]
    },
    {
     "data": {
      "text/plain": [
       "[]"
      ]
     },
     "execution_count": 11,
     "metadata": {},
     "output_type": "execute_result"
    }
   ],
   "source": [
    "%%sql\n",
    "INSERT INTO jugadores(nombre,tipo) VALUES('Jorge','humano');\n",
    "INSERT INTO jugadores(nombre,tipo) VALUES('Ana','IA');\n",
    "INSERT INTO jugadores(nombre,tipo) VALUES('Peter','IA');\n",
    "INSERT INTO jugadores(nombre,tipo) VALUES('Maria','humano');"
   ]
  },
  {
   "cell_type": "markdown",
   "metadata": {},
   "source": [
    "## Tabla de Colores"
   ]
  },
  {
   "cell_type": "markdown",
   "metadata": {},
   "source": [
    "![Diagrama E/R](IMG/tabla_colores_v2.png)"
   ]
  },
  {
   "cell_type": "code",
   "execution_count": 6,
   "metadata": {
    "collapsed": false
   },
   "outputs": [
    {
     "name": "stdout",
     "output_type": "stream",
     "text": [
      "Done.\n"
     ]
    },
    {
     "data": {
      "text/plain": [
       "[]"
      ]
     },
     "execution_count": 6,
     "metadata": {},
     "output_type": "execute_result"
    }
   ],
   "source": [
    "%%sql\n",
    "CREATE TABLE colores(color VARCHAR(20),\n",
    "                     PRIMARY KEY(color));"
   ]
  },
  {
   "cell_type": "code",
   "execution_count": 12,
   "metadata": {
    "collapsed": false
   },
   "outputs": [
    {
     "name": "stdout",
     "output_type": "stream",
     "text": [
      "1 rows affected.\n",
      "1 rows affected.\n",
      "1 rows affected.\n",
      "1 rows affected.\n"
     ]
    },
    {
     "data": {
      "text/plain": [
       "[]"
      ]
     },
     "execution_count": 12,
     "metadata": {},
     "output_type": "execute_result"
    }
   ],
   "source": [
    "%%sql\n",
    "INSERT INTO colores(color) VALUES('azul');\n",
    "INSERT INTO colores(color) VALUES('verde');\n",
    "INSERT INTO colores(color) VALUES('rojo');\n",
    "INSERT INTO colores(color) VALUES('naranja');"
   ]
  },
  {
   "cell_type": "markdown",
   "metadata": {},
   "source": [
    "## Tabla de Partidas"
   ]
  },
  {
   "cell_type": "markdown",
   "metadata": {},
   "source": [
    "![Diagrama E/R](IMG/tabla_partidas_v2.png)"
   ]
  },
  {
   "cell_type": "code",
   "execution_count": 7,
   "metadata": {
    "collapsed": false
   },
   "outputs": [
    {
     "name": "stdout",
     "output_type": "stream",
     "text": [
      "Done.\n"
     ]
    },
    {
     "data": {
      "text/plain": [
       "[]"
      ]
     },
     "execution_count": 7,
     "metadata": {},
     "output_type": "execute_result"
    }
   ],
   "source": [
    "%%sql\n",
    "CREATE TABLE partidas(inicio DATETIME,\n",
    "                      fin DATETIME,\n",
    "                      PRIMARY KEY(inicio,fin));"
   ]
  },
  {
   "cell_type": "code",
   "execution_count": 13,
   "metadata": {
    "collapsed": false
   },
   "outputs": [
    {
     "name": "stdout",
     "output_type": "stream",
     "text": [
      "1 rows affected.\n",
      "1 rows affected.\n",
      "1 rows affected.\n",
      "1 rows affected.\n"
     ]
    },
    {
     "data": {
      "text/plain": [
       "[]"
      ]
     },
     "execution_count": 13,
     "metadata": {},
     "output_type": "execute_result"
    }
   ],
   "source": [
    "%%sql\n",
    "INSERT INTO partidas(inicio,fin) VALUES('03/12/2016','03/12/2016');\n",
    "INSERT INTO partidas(inicio,fin) VALUES('13/12/2016','13/12/2016');\n",
    "INSERT INTO partidas(inicio,fin) VALUES('10/12/2016','10/12/2016');\n",
    "INSERT INTO partidas(inicio,fin) VALUES('04/12/2016','04/12/2016');"
   ]
  },
  {
   "cell_type": "markdown",
   "metadata": {},
   "source": [
    "## Relación Jugadores,Colores y Partidas "
   ]
  },
  {
   "cell_type": "markdown",
   "metadata": {},
   "source": [
    "Un jugador es un color para una partida. Son los jugadores por partidas."
   ]
  },
  {
   "cell_type": "markdown",
   "metadata": {},
   "source": [
    "![Diagrama E/R](IMG/relacion_jugadores_colores_partidas.png)"
   ]
  },
  {
   "cell_type": "code",
   "execution_count": 11,
   "metadata": {
    "collapsed": false
   },
   "outputs": [
    {
     "name": "stdout",
     "output_type": "stream",
     "text": [
      "Done.\n",
      "Done.\n"
     ]
    },
    {
     "data": {
      "text/plain": [
       "[]"
      ]
     },
     "execution_count": 11,
     "metadata": {},
     "output_type": "execute_result"
    }
   ],
   "source": [
    "%%sql\n",
    "DROP TABLE jugadores;\n",
    "CREATE TABLE jugadores(nombre VARCHAR(20),\n",
    "                       tipo VARCHAR(20),\n",
    "                       color VARCHAR(20) NOT NULL,\n",
    "                       PRIMARY KEY(nombre,color));"
   ]
  },
  {
   "cell_type": "code",
   "execution_count": 12,
   "metadata": {
    "collapsed": false
   },
   "outputs": [
    {
     "name": "stdout",
     "output_type": "stream",
     "text": [
      "1 rows affected.\n",
      "1 rows affected.\n",
      "1 rows affected.\n",
      "1 rows affected.\n"
     ]
    },
    {
     "data": {
      "text/plain": [
       "[]"
      ]
     },
     "execution_count": 12,
     "metadata": {},
     "output_type": "execute_result"
    }
   ],
   "source": [
    "%%sql\n",
    "INSERT INTO jugadores(nombre,tipo,color) VALUES('Jorge','humano','verde');\n",
    "INSERT INTO jugadores(nombre,tipo,color) VALUES('Ana','IA','rojo');\n",
    "INSERT INTO jugadores(nombre,tipo,color) VALUES('Peter','IA','azul');\n",
    "INSERT INTO jugadores(nombre,tipo,color) VALUES('Maria','humano','blanco');"
   ]
  },
  {
   "cell_type": "code",
   "execution_count": 13,
   "metadata": {
    "collapsed": false
   },
   "outputs": [
    {
     "name": "stdout",
     "output_type": "stream",
     "text": [
      "Done.\n",
      "Done.\n"
     ]
    },
    {
     "data": {
      "text/plain": [
       "[]"
      ]
     },
     "execution_count": 13,
     "metadata": {},
     "output_type": "execute_result"
    }
   ],
   "source": [
    "%%sql\n",
    "DROP TABLE partidas;\n",
    "CREATE TABLE partidas(inicio DATETIME,\n",
    "                      fin DATETIME,\n",
    "                      nombre VARCHAR(20),\n",
    "                      PRIMARY KEY(inicio,fin,nombre),\n",
    "                      FOREIGN KEY (nombre) REFERENCES jugadores (nombre));"
   ]
  },
  {
   "cell_type": "code",
   "execution_count": 14,
   "metadata": {
    "collapsed": false
   },
   "outputs": [
    {
     "name": "stdout",
     "output_type": "stream",
     "text": [
      "1 rows affected.\n",
      "1 rows affected.\n",
      "1 rows affected.\n",
      "1 rows affected.\n"
     ]
    },
    {
     "data": {
      "text/plain": [
       "[]"
      ]
     },
     "execution_count": 14,
     "metadata": {},
     "output_type": "execute_result"
    }
   ],
   "source": [
    "%%sql\n",
    "INSERT INTO partidas(inicio,fin,nombre) VALUES('03/12/2016','03/12/2016','Jorge');\n",
    "INSERT INTO partidas(inicio,fin,nombre) VALUES('03/12/2016','03/12/2016','Maria');\n",
    "INSERT INTO partidas(inicio,fin,nombre) VALUES('10/12/2016','10/12/2016','Jorge');\n",
    "INSERT INTO partidas(inicio,fin,nombre) VALUES('10/12/2016','10/12/2016','Ana');"
   ]
  },
  {
   "cell_type": "markdown",
   "metadata": {},
   "source": [
    "Permitiendonos así eliminar fisicamente la tabla de colores, pero seguir manteniendo la relación de que jugador uso que color en que partida."
   ]
  },
  {
   "cell_type": "markdown",
   "metadata": {},
   "source": [
    "## Tabla Jugadas"
   ]
  },
  {
   "cell_type": "markdown",
   "metadata": {},
   "source": [
    "![Diagrama E/R](IMG/tabla_turnos_v2.png)"
   ]
  },
  {
   "cell_type": "code",
   "execution_count": 15,
   "metadata": {
    "collapsed": false
   },
   "outputs": [
    {
     "name": "stdout",
     "output_type": "stream",
     "text": [
      "Done.\n",
      "Done.\n"
     ]
    },
    {
     "data": {
      "text/plain": [
       "[]"
      ]
     },
     "execution_count": 15,
     "metadata": {},
     "output_type": "execute_result"
    }
   ],
   "source": [
    "%%sql\n",
    "DROP TABLE jugadas;\n",
    "CREATE TABLE jugadas(id INT,\n",
    "                    batallones INT,\n",
    "                    movimiento VARCHAR(20),\n",
    "                    PRIMARY KEY(id));"
   ]
  },
  {
   "cell_type": "code",
   "execution_count": 16,
   "metadata": {
    "collapsed": false
   },
   "outputs": [
    {
     "name": "stdout",
     "output_type": "stream",
     "text": [
      "1 rows affected.\n",
      "1 rows affected.\n",
      "1 rows affected.\n",
      "1 rows affected.\n"
     ]
    },
    {
     "data": {
      "text/plain": [
       "[]"
      ]
     },
     "execution_count": 16,
     "metadata": {},
     "output_type": "execute_result"
    }
   ],
   "source": [
    "%%sql\n",
    "INSERT INTO jugadas(id,batallones,movimiento) VALUES(1,0,\"ataco\");\n",
    "INSERT INTO jugadas(id,batallones,movimiento) VALUES(2,-2,\"defiendo\");\n",
    "INSERT INTO jugadas(id,batallones,movimiento) VALUES(3,-1,\"ataco\");\n",
    "INSERT INTO jugadas(id,batallones,movimiento) VALUES(4,0,\"ataco\");"
   ]
  },
  {
   "cell_type": "markdown",
   "metadata": {},
   "source": [
    "## Relación Jugadores, Jugadas y Partidas"
   ]
  },
  {
   "cell_type": "markdown",
   "metadata": {},
   "source": [
    "Turnos relizados en una partida por un jugador."
   ]
  },
  {
   "cell_type": "markdown",
   "metadata": {},
   "source": [
    "![Diagrama E/R](IMG/relacion_jugadores_partidas_jugadas.png)"
   ]
  },
  {
   "cell_type": "markdown",
   "metadata": {},
   "source": [
    "Esta relación la podríamos representar de dos formas: \n",
    "    1.- Creando una tabla aparte jugadas_realizadas que contenga los IDs de partidas y el ID de jugadas\n",
    "    2.- A la tabla de jugadas añadirle los campos de partidas,y que sean estos a su vez IDs. Esto nos permitiría llevar un orden sobre como se realizaron las jugadas en una partida de manera más especifica, aunque en la anterior también está esta relación de en que orden en función del ID más alto. Esta no la vamos a elegir ya que mepezaríamos a hacer unos IDs demasiado largos.\n"
   ]
  },
  {
   "cell_type": "code",
   "execution_count": 29,
   "metadata": {
    "collapsed": false
   },
   "outputs": [
    {
     "name": "stdout",
     "output_type": "stream",
     "text": [
      "Done.\n",
      "Done.\n"
     ]
    },
    {
     "data": {
      "text/plain": [
       "[]"
      ]
     },
     "execution_count": 29,
     "metadata": {},
     "output_type": "execute_result"
    }
   ],
   "source": [
    "%%sql\n",
    "DROP TABLE jugadas_realizadas;\n",
    "CREATE TABLE jugadas_realizadas(inicio DATETIME,\n",
    "                                fin DATETIME,\n",
    "                                nombre VARCHAR(20),\n",
    "                                id INT,\n",
    "                                PRIMARY KEY (id),\n",
    "                                FOREIGN KEY (id) REFERENCES jugadas(id) ON DELETE CASCADE);"
   ]
  },
  {
   "cell_type": "code",
   "execution_count": 30,
   "metadata": {
    "collapsed": false
   },
   "outputs": [
    {
     "name": "stdout",
     "output_type": "stream",
     "text": [
      "1 rows affected.\n",
      "1 rows affected.\n",
      "1 rows affected.\n",
      "1 rows affected.\n"
     ]
    },
    {
     "data": {
      "text/plain": [
       "[]"
      ]
     },
     "execution_count": 30,
     "metadata": {},
     "output_type": "execute_result"
    }
   ],
   "source": [
    "%%sql\n",
    "INSERT INTO jugadas_realizadas(inicio,fin,nombre,id) VALUES('03/12/2016','03/12/2016','Jorge',1);\n",
    "INSERT INTO jugadas_realizadas(inicio,fin,nombre,id) VALUES('10/12/2016','10/12/2016','Ana',2);\n",
    "INSERT INTO jugadas_realizadas(inicio,fin,nombre,id) VALUES('03/12/2016','03/12/2016','Maria',3);\n",
    "INSERT INTO jugadas_realizadas(inicio,fin,nombre,id) VALUES('10/12/2016','10/12/2016','Jorge',4);"
   ]
  },
  {
   "cell_type": "markdown",
   "metadata": {},
   "source": [
    "## Tabla de Paises"
   ]
  },
  {
   "cell_type": "markdown",
   "metadata": {},
   "source": [
    "![Diagrama E/R](IMG/tabla_paises_v2.png)"
   ]
  },
  {
   "cell_type": "code",
   "execution_count": 15,
   "metadata": {
    "collapsed": false
   },
   "outputs": [
    {
     "name": "stdout",
     "output_type": "stream",
     "text": [
      "Done.\n",
      "Done.\n"
     ]
    },
    {
     "data": {
      "text/plain": [
       "[]"
      ]
     },
     "execution_count": 15,
     "metadata": {},
     "output_type": "execute_result"
    }
   ],
   "source": [
    "%%sql\n",
    "DROP TABLE paises;\n",
    "CREATE TABLE paises(nombre VARCHAR(20),\n",
    "                    vecinos VARCHAR(100),\n",
    "                    PRIMARY KEY(nombre));"
   ]
  },
  {
   "cell_type": "code",
   "execution_count": 16,
   "metadata": {
    "collapsed": false
   },
   "outputs": [
    {
     "name": "stdout",
     "output_type": "stream",
     "text": [
      "1 rows affected.\n",
      "1 rows affected.\n",
      "1 rows affected.\n",
      "1 rows affected.\n"
     ]
    },
    {
     "data": {
      "text/plain": [
       "[]"
      ]
     },
     "execution_count": 16,
     "metadata": {},
     "output_type": "execute_result"
    }
   ],
   "source": [
    "%%sql\n",
    "INSERT INTO paises(nombre,vecinos) VALUES('España','Francia,Portugal,Inglaterra');\n",
    "INSERT INTO paises(nombre,vecinos) VALUES('Portugal','España');\n",
    "INSERT INTO paises(nombre,vecinos) VALUES('Inglaterra','España');\n",
    "INSERT INTO paises(nombre,vecinos) VALUES('Francia','Alemania,Italia,España');"
   ]
  },
  {
   "cell_type": "markdown",
   "metadata": {},
   "source": [
    "## Agregación de Paises a los Turnos"
   ]
  },
  {
   "cell_type": "markdown",
   "metadata": {},
   "source": [
    "Colonización de los Paises según el turno "
   ]
  },
  {
   "cell_type": "markdown",
   "metadata": {},
   "source": [
    "![Diagrama E/R](IMG/relacion_entre_tablas.png)"
   ]
  },
  {
   "cell_type": "markdown",
   "metadata": {
    "collapsed": true
   },
   "source": [
    "Podríamos representar la agregación como un campo que sea país colonizado en la tablas de jugadas realizadas, también podríamos manejar una tabla de colonizaciones que realiciones la jugada con los paises, por simplificar el manejo de las tablas haremos una tabla más que solo maneje en que jugada se colonizo que país."
   ]
  },
  {
   "cell_type": "code",
   "execution_count": 31,
   "metadata": {
    "collapsed": false
   },
   "outputs": [
    {
     "name": "stdout",
     "output_type": "stream",
     "text": [
      "Done.\n"
     ]
    },
    {
     "data": {
      "text/plain": [
       "[]"
      ]
     },
     "execution_count": 31,
     "metadata": {},
     "output_type": "execute_result"
    }
   ],
   "source": [
    "%%sql\n",
    "CREATE TABLE colonizaciones(id INT,\n",
    "                            pais VARCHAR(20) NOT NULL,\n",
    "                            PRIMARY KEY (id));"
   ]
  },
  {
   "cell_type": "code",
   "execution_count": 32,
   "metadata": {
    "collapsed": false
   },
   "outputs": [
    {
     "name": "stdout",
     "output_type": "stream",
     "text": [
      "1 rows affected.\n",
      "1 rows affected.\n",
      "1 rows affected.\n"
     ]
    },
    {
     "data": {
      "text/plain": [
       "[]"
      ]
     },
     "execution_count": 32,
     "metadata": {},
     "output_type": "execute_result"
    }
   ],
   "source": [
    "%%sql\n",
    "INSERT INTO colonizaciones(id,pais) VALUES(1,'España');\n",
    "INSERT INTO colonizaciones(id,pais) VALUES(2,'Italia');\n",
    "INSERT INTO colonizaciones(id,pais) VALUES(3,'Francia')"
   ]
  },
  {
   "cell_type": "code",
   "execution_count": null,
   "metadata": {
    "collapsed": true
   },
   "outputs": [],
   "source": []
  }
 ],
 "metadata": {
  "kernelspec": {
   "display_name": "Python 3",
   "language": "python",
   "name": "python3"
  },
  "language_info": {
   "codemirror_mode": {
    "name": "ipython",
    "version": 3
   },
   "file_extension": ".py",
   "mimetype": "text/x-python",
   "name": "python",
   "nbconvert_exporter": "python",
   "pygments_lexer": "ipython3",
   "version": "3.5.2"
  }
 },
 "nbformat": 4,
 "nbformat_minor": 1
}
